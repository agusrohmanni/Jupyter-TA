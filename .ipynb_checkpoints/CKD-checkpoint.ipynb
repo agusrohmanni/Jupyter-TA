{
 "cells": [
  {
   "cell_type": "code",
   "execution_count": 1,
   "metadata": {},
   "outputs": [],
   "source": [
    "import pandas as pd\n",
    "import numpy as np\n",
    "import matplotlib.pyplot as plt\n",
    "import seaborn as sns\n",
    "import warnings\n",
    "%matplotlib inline\n",
    "warnings.filterwarnings(\"ignore\")\n",
    "from sklearn.model_selection import train_test_split\n",
    "from sklearn.metrics import roc_auc_score\n",
    "from mlxtend.feature_selection import SequentialFeatureSelector as SFS\n",
    "from sklearn.neighbors import KNeighborsClassifier\n",
    "from sklearn.model_selection import cross_val_score\n",
    "from sklearn.metrics import accuracy_score\n",
    "from sklearn.impute import KNNImputer"
   ]
  },
  {
   "cell_type": "code",
   "execution_count": 2,
   "metadata": {},
   "outputs": [],
   "source": [
    "df=pd.read_csv('kidney.csv')\n",
    "df.drop('id',axis=1,inplace=True)"
   ]
  },
  {
   "cell_type": "code",
   "execution_count": 3,
   "metadata": {},
   "outputs": [],
   "source": [
    "#convert to numeric data type from object\n",
    "df.pcv = pd.to_numeric(df.pcv, errors='coerce')\n",
    "df.wc = pd.to_numeric(df.wc, errors='coerce')\n",
    "df.rc = pd.to_numeric(df.rc, errors='coerce')"
   ]
  },
  {
   "cell_type": "code",
   "execution_count": 4,
   "metadata": {},
   "outputs": [],
   "source": [
    "df.classification=df.classification.replace('ckd\\t','ckd')\n",
    "df.dm=df.dm.replace([' yes','\\tno','\\tyes'],['yes','no','yes'])\n",
    "df.cad=df.cad.replace('\\tno','no')"
   ]
  },
  {
   "cell_type": "code",
   "execution_count": 5,
   "metadata": {},
   "outputs": [],
   "source": [
    "df[\"sg\"]= df[\"sg\"].fillna(df[\"sg\"].value_counts().idxmax())\n",
    "df[\"al\"]= df[\"al\"].fillna(df[\"al\"].value_counts().idxmax())\n",
    "df[\"su\"]= df[\"su\"].fillna(df[\"su\"].value_counts().idxmax())\n",
    "df[\"rbc\"]= df[\"rbc\"].fillna(df[\"rbc\"].value_counts().idxmax())\n",
    "df[\"pc\"]= df[\"pc\"].fillna(df[\"pc\"].value_counts().idxmax())\n",
    "df[\"pcc\"]= df[\"pcc\"].fillna(df[\"pcc\"].value_counts().idxmax())\n",
    "df[\"ba\"]= df[\"ba\"].fillna(df[\"ba\"].value_counts().idxmax())\n",
    "df[\"htn\"]= df[\"htn\"].fillna(df[\"htn\"].value_counts().idxmax())\n",
    "df[\"dm\"]= df[\"dm\"].fillna(df[\"dm\"].value_counts().idxmax())\n",
    "df[\"cad\"]= df[\"cad\"].fillna(df[\"cad\"].value_counts().idxmax())\n",
    "df[\"appet\"]= df[\"appet\"].fillna(df[\"appet\"].value_counts().idxmax())\n",
    "df[\"pe\"]= df[\"pe\"].fillna(df[\"pe\"].value_counts().idxmax())\n",
    "df[\"ane\"]= df[\"ane\"].fillna(df[\"ane\"].value_counts().idxmax())"
   ]
  },
  {
   "cell_type": "code",
   "execution_count": 6,
   "metadata": {},
   "outputs": [],
   "source": [
    "dictionary = {\n",
    "    'rbc' :{\n",
    "    'abnormal':1,\n",
    "    'normal':0,\n",
    "    },\n",
    "    'pc' :{\n",
    "    'abnormal':1,\n",
    "    'normal':0,\n",
    "    },\n",
    "    'pcc' :{\n",
    "    'notpresent':0,\n",
    "    'present':1,\n",
    "    },\n",
    "    'ba' :{\n",
    "    'notpresent':0,\n",
    "    'present':1,\n",
    "    },\n",
    "    'htn' :{\n",
    "    'yes':1,\n",
    "    'no':0,\n",
    "    },\n",
    "    'dm' :{\n",
    "    'yes':1,\n",
    "    'no':0,\n",
    "    },\n",
    "    'cad' :{\n",
    "    'yes':1,\n",
    "    'no':0,\n",
    "    },\n",
    "    'appet' :{\n",
    "    'good':1,\n",
    "    'poor':0,\n",
    "    },\n",
    "    'pe' :{\n",
    "    'yes':1,\n",
    "    'no':0,\n",
    "    },\n",
    "    'ane' :{\n",
    "    'yes':1,\n",
    "    'no':0,\n",
    "    },\n",
    "    'classification':{\n",
    "        'ckd':1,\n",
    "        'notckd':0,\n",
    "    }\n",
    "}\n",
    "df=df.replace(dictionary)"
   ]
  },
  {
   "cell_type": "code",
   "execution_count": 7,
   "metadata": {},
   "outputs": [],
   "source": [
    "imputer = KNNImputer(n_neighbors=2)\n",
    "df_filled = imputer.fit_transform(df)"
   ]
  },
  {
   "cell_type": "code",
   "execution_count": 8,
   "metadata": {},
   "outputs": [
    {
     "name": "stdout",
     "output_type": "stream",
     "text": [
      "<class 'pandas.core.frame.DataFrame'>\n",
      "RangeIndex: 400 entries, 0 to 399\n",
      "Data columns (total 25 columns):\n",
      "0     400 non-null float64\n",
      "1     400 non-null float64\n",
      "2     400 non-null float64\n",
      "3     400 non-null float64\n",
      "4     400 non-null float64\n",
      "5     400 non-null float64\n",
      "6     400 non-null float64\n",
      "7     400 non-null float64\n",
      "8     400 non-null float64\n",
      "9     400 non-null float64\n",
      "10    400 non-null float64\n",
      "11    400 non-null float64\n",
      "12    400 non-null float64\n",
      "13    400 non-null float64\n",
      "14    400 non-null float64\n",
      "15    400 non-null float64\n",
      "16    400 non-null float64\n",
      "17    400 non-null float64\n",
      "18    400 non-null float64\n",
      "19    400 non-null float64\n",
      "20    400 non-null float64\n",
      "21    400 non-null float64\n",
      "22    400 non-null float64\n",
      "23    400 non-null float64\n",
      "24    400 non-null float64\n",
      "dtypes: float64(25)\n",
      "memory usage: 78.2 KB\n"
     ]
    }
   ],
   "source": [
    "df2 = pd.DataFrame(data = df_filled)\n",
    "df2.info()"
   ]
  },
  {
   "cell_type": "code",
   "execution_count": 9,
   "metadata": {},
   "outputs": [
    {
     "data": {
      "text/plain": [
       "Index(['age', 'bp', 'sg', 'al', 'su', 'rbc', 'pc', 'pcc', 'ba', 'bgr', 'bu',\n",
       "       'sc', 'sod', 'pot', 'hemo', 'pcv', 'wc', 'rc', 'htn', 'dm', 'cad',\n",
       "       'appet', 'pe', 'ane', 'class'],\n",
       "      dtype='object')"
      ]
     },
     "execution_count": 9,
     "metadata": {},
     "output_type": "execute_result"
    }
   ],
   "source": [
    "kolom = ['age','bp','sg','al','su','rbc','pc','pcc','ba',\n",
    "          'bgr','bu','sc','sod','pot','hemo','pcv','wc','rc',\n",
    "          'htn','dm','cad','appet','pe','ane','class']\n",
    "df2.columns=kolom\n",
    "df2.columns"
   ]
  },
  {
   "cell_type": "code",
   "execution_count": 10,
   "metadata": {},
   "outputs": [],
   "source": [
    "#mulai perhitungan\n",
    "score=[] \n",
    "algorithms=[] "
   ]
  },
  {
   "cell_type": "code",
   "execution_count": 11,
   "metadata": {},
   "outputs": [],
   "source": [
    "y=df2['class']\n",
    "x=df2.drop(['class'],axis=1)"
   ]
  },
  {
   "cell_type": "code",
   "execution_count": 12,
   "metadata": {},
   "outputs": [],
   "source": [
    "x_train,x_test,y_train,y_test=train_test_split(x,y,random_state=42,test_size=0.3)"
   ]
  },
  {
   "cell_type": "code",
   "execution_count": 13,
   "metadata": {},
   "outputs": [
    {
     "name": "stdout",
     "output_type": "stream",
     "text": [
      "KNN accuracy = 64.16666666666667\n"
     ]
    }
   ],
   "source": [
    "#model and accuracy\n",
    "knn=KNeighborsClassifier(n_neighbors=3)\n",
    "knn.fit(x_train,y_train)\n",
    "knn.predict(x_test)\n",
    "score.append(knn.score(x_test,y_test)*100)\n",
    "algorithms.append(\"KNN\")\n",
    "print(\"KNN accuracy =\",knn.score(x_test,y_test)*100)"
   ]
  },
  {
   "cell_type": "code",
   "execution_count": 14,
   "metadata": {},
   "outputs": [
    {
     "data": {
      "text/plain": [
       "array([[31, 13],\n",
       "       [30, 46]], dtype=int64)"
      ]
     },
     "execution_count": 14,
     "metadata": {},
     "output_type": "execute_result"
    }
   ],
   "source": [
    "#Confusion Matrix\n",
    "from sklearn.metrics import confusion_matrix\n",
    "y_pred=knn.predict(x_test)\n",
    "y_true=y_test\n",
    "cm=confusion_matrix(y_test,y_pred)\n",
    "cm"
   ]
  },
  {
   "cell_type": "code",
   "execution_count": 15,
   "metadata": {},
   "outputs": [],
   "source": [
    "from sklearn.model_selection import cross_val_score\n",
    "knn_scores = []\n",
    "for k in range(1,21):\n",
    "    knn_classifier = KNeighborsClassifier(n_neighbors=k)\n",
    "    score = cross_val_score(knn_classifier,x_train,y_train,cv=10)\n",
    "    knn_scores.append(score.mean())"
   ]
  },
  {
   "cell_type": "code",
   "execution_count": 16,
   "metadata": {},
   "outputs": [
    {
     "data": {
      "text/plain": [
       "Text(0.5, 1.0, 'KNN score diferent valus')"
      ]
     },
     "execution_count": 16,
     "metadata": {},
     "output_type": "execute_result"
    },
    {
     "data": {
      "image/png": "[encoded data removed]",
      "text/plain": [
       "<Figure size 432x288 with 1 Axes>"
      ]
     },
     "metadata": {
      "needs_background": "light"
     },
     "output_type": "display_data"
    }
   ],
   "source": [
    "plt.plot([k for k in range(1,21)], knn_scores,color='red')\n",
    "for i in range (1,21):\n",
    "    plt.text(i, knn_scores[i-1], (i,knn_scores[i-1]))\n",
    "plt.xticks([i for i in range(1,21)])\n",
    "plt.xlabel('number of neighbour')\n",
    "plt.ylabel('scores')\n",
    "plt.title('KNN score diferent valus')"
   ]
  },
  {
   "cell_type": "code",
   "execution_count": 17,
   "metadata": {},
   "outputs": [],
   "source": [
    "knn = KNeighborsClassifier(n_neighbors=3, metric = 'euclidean',n_jobs=-1,\n",
    "                                      weights='distance')"
   ]
  },
  {
   "cell_type": "code",
   "execution_count": 18,
   "metadata": {},
   "outputs": [
    {
     "data": {
      "text/plain": [
       "KNeighborsClassifier(metric='euclidean', n_jobs=-1, n_neighbors=3,\n",
       "                     weights='distance')"
      ]
     },
     "execution_count": 18,
     "metadata": {},
     "output_type": "execute_result"
    }
   ],
   "source": [
    "knn.fit(x_train,y_train)"
   ]
  },
  {
   "cell_type": "code",
   "execution_count": 19,
   "metadata": {},
   "outputs": [
    {
     "name": "stdout",
     "output_type": "stream",
     "text": [
      "acc :  0.6666666666666666\n"
     ]
    }
   ],
   "source": [
    "ypred=knn.predict(x_test)\n",
    "print('acc : ',accuracy_score(y_test,ypred))"
   ]
  },
  {
   "cell_type": "code",
   "execution_count": 20,
   "metadata": {},
   "outputs": [],
   "source": [
    "sfs = SFS(knn,\n",
    "        k_features=24,\n",
    "        forward=True,\n",
    "        floating=False,\n",
    "        verbose=2,\n",
    "        scoring='accuracy',\n",
    "        cv=5,\n",
    "        n_jobs=-1)"
   ]
  },
  {
   "cell_type": "code",
   "execution_count": 21,
   "metadata": {},
   "outputs": [
    {
     "name": "stderr",
     "output_type": "stream",
     "text": [
      "[Parallel(n_jobs=-1)]: Using backend LokyBackend with 4 concurrent workers.\n",
      "[Parallel(n_jobs=-1)]: Done  24 out of  24 | elapsed:    8.8s finished\n",
      "\n",
      "[2020-10-28 11:33:14] Features: 1/24 -- score: 0.8428571428571429[Parallel(n_jobs=-1)]: Using backend LokyBackend with 4 concurrent workers.\n",
      "[Parallel(n_jobs=-1)]: Done  23 out of  23 | elapsed:    3.5s finished\n",
      "\n",
      "[2020-10-28 11:33:17] Features: 2/24 -- score: 0.9142857142857143[Parallel(n_jobs=-1)]: Using backend LokyBackend with 4 concurrent workers.\n",
      "[Parallel(n_jobs=-1)]: Done  22 out of  22 | elapsed:    3.6s finished\n",
      "\n",
      "[2020-10-28 11:33:21] Features: 3/24 -- score: 0.9321428571428572[Parallel(n_jobs=-1)]: Using backend LokyBackend with 4 concurrent workers.\n",
      "[Parallel(n_jobs=-1)]: Done  21 out of  21 | elapsed:    3.3s finished\n",
      "\n",
      "[2020-10-28 11:33:24] Features: 4/24 -- score: 0.9392857142857144[Parallel(n_jobs=-1)]: Using backend LokyBackend with 4 concurrent workers.\n",
      "[Parallel(n_jobs=-1)]: Done  20 out of  20 | elapsed:    2.6s finished\n",
      "\n",
      "[2020-10-28 11:33:27] Features: 5/24 -- score: 0.9464285714285714[Parallel(n_jobs=-1)]: Using backend LokyBackend with 4 concurrent workers.\n",
      "[Parallel(n_jobs=-1)]: Done  19 out of  19 | elapsed:    2.7s finished\n",
      "\n",
      "[2020-10-28 11:33:30] Features: 6/24 -- score: 0.95[Parallel(n_jobs=-1)]: Using backend LokyBackend with 4 concurrent workers.\n",
      "[Parallel(n_jobs=-1)]: Done  18 out of  18 | elapsed:    2.8s finished\n",
      "\n",
      "[2020-10-28 11:33:33] Features: 7/24 -- score: 0.95[Parallel(n_jobs=-1)]: Using backend LokyBackend with 4 concurrent workers.\n",
      "[Parallel(n_jobs=-1)]: Done  17 out of  17 | elapsed:    2.9s finished\n",
      "\n",
      "[2020-10-28 11:33:36] Features: 8/24 -- score: 0.95[Parallel(n_jobs=-1)]: Using backend LokyBackend with 4 concurrent workers.\n",
      "[Parallel(n_jobs=-1)]: Done  16 out of  16 | elapsed:    2.3s finished\n",
      "\n",
      "[2020-10-28 11:33:38] Features: 9/24 -- score: 0.95[Parallel(n_jobs=-1)]: Using backend LokyBackend with 4 concurrent workers.\n",
      "[Parallel(n_jobs=-1)]: Done  15 out of  15 | elapsed:    2.4s finished\n",
      "\n",
      "[2020-10-28 11:33:41] Features: 10/24 -- score: 0.9464285714285714[Parallel(n_jobs=-1)]: Using backend LokyBackend with 4 concurrent workers.\n",
      "[Parallel(n_jobs=-1)]: Done  14 out of  14 | elapsed:    2.1s finished\n",
      "\n",
      "[2020-10-28 11:33:43] Features: 11/24 -- score: 0.9464285714285714[Parallel(n_jobs=-1)]: Using backend LokyBackend with 4 concurrent workers.\n",
      "[Parallel(n_jobs=-1)]: Done  13 out of  13 | elapsed:    2.2s remaining:    0.0s\n",
      "[Parallel(n_jobs=-1)]: Done  13 out of  13 | elapsed:    2.2s finished\n",
      "\n",
      "[2020-10-28 11:33:45] Features: 12/24 -- score: 0.9428571428571428[Parallel(n_jobs=-1)]: Using backend LokyBackend with 4 concurrent workers.\n",
      "[Parallel(n_jobs=-1)]: Done  12 out of  12 | elapsed:    1.7s remaining:    0.0s\n",
      "[Parallel(n_jobs=-1)]: Done  12 out of  12 | elapsed:    1.7s finished\n",
      "\n",
      "[2020-10-28 11:33:47] Features: 13/24 -- score: 0.9428571428571428[Parallel(n_jobs=-1)]: Using backend LokyBackend with 4 concurrent workers.\n",
      "[Parallel(n_jobs=-1)]: Done  11 out of  11 | elapsed:    1.5s finished\n",
      "\n",
      "[2020-10-28 11:33:49] Features: 14/24 -- score: 0.9464285714285714[Parallel(n_jobs=-1)]: Using backend LokyBackend with 4 concurrent workers.\n",
      "[Parallel(n_jobs=-1)]: Done  10 out of  10 | elapsed:    1.5s finished\n",
      "\n",
      "[2020-10-28 11:33:50] Features: 15/24 -- score: 0.9392857142857143[Parallel(n_jobs=-1)]: Using backend LokyBackend with 4 concurrent workers.\n",
      "[Parallel(n_jobs=-1)]: Done   7 out of   9 | elapsed:    1.0s remaining:    0.2s\n",
      "[Parallel(n_jobs=-1)]: Done   9 out of   9 | elapsed:    1.5s finished\n",
      "\n",
      "[2020-10-28 11:33:52] Features: 16/24 -- score: 0.9214285714285715[Parallel(n_jobs=-1)]: Using backend LokyBackend with 4 concurrent workers.\n",
      "[Parallel(n_jobs=-1)]: Done   6 out of   8 | elapsed:    1.1s remaining:    0.3s\n",
      "[Parallel(n_jobs=-1)]: Done   8 out of   8 | elapsed:    1.1s finished\n",
      "\n",
      "[2020-10-28 11:33:53] Features: 17/24 -- score: 0.925[Parallel(n_jobs=-1)]: Using backend LokyBackend with 4 concurrent workers.\n",
      "[Parallel(n_jobs=-1)]: Done   4 out of   7 | elapsed:    0.5s remaining:    0.3s\n",
      "[Parallel(n_jobs=-1)]: Done   7 out of   7 | elapsed:    1.0s finished\n",
      "\n",
      "[2020-10-28 11:33:54] Features: 18/24 -- score: 0.9178571428571429[Parallel(n_jobs=-1)]: Using backend LokyBackend with 4 concurrent workers.\n",
      "[Parallel(n_jobs=-1)]: Done   3 out of   6 | elapsed:    0.5s remaining:    0.5s\n",
      "[Parallel(n_jobs=-1)]: Done   6 out of   6 | elapsed:    1.0s finished\n",
      "\n",
      "[2020-10-28 11:33:55] Features: 19/24 -- score: 0.9071428571428571[Parallel(n_jobs=-1)]: Using backend LokyBackend with 4 concurrent workers.\n",
      "[Parallel(n_jobs=-1)]: Done   5 out of   5 | elapsed:    1.0s finished\n",
      "\n",
      "[2020-10-28 11:33:56] Features: 20/24 -- score: 0.9[Parallel(n_jobs=-1)]: Using backend LokyBackend with 4 concurrent workers.\n",
      "[Parallel(n_jobs=-1)]: Done   4 out of   4 | elapsed:    0.5s finished\n",
      "\n",
      "[2020-10-28 11:33:57] Features: 21/24 -- score: 0.8785714285714284[Parallel(n_jobs=-1)]: Using backend LokyBackend with 4 concurrent workers.\n",
      "[Parallel(n_jobs=-1)]: Done   3 out of   3 | elapsed:    0.5s finished\n",
      "\n",
      "[2020-10-28 11:33:58] Features: 22/24 -- score: 0.8857142857142856[Parallel(n_jobs=-1)]: Using backend LokyBackend with 4 concurrent workers.\n",
      "[Parallel(n_jobs=-1)]: Done   2 out of   2 | elapsed:    0.5s finished\n",
      "\n",
      "[2020-10-28 11:33:58] Features: 23/24 -- score: 0.85[Parallel(n_jobs=-1)]: Using backend LokyBackend with 4 concurrent workers.\n",
      "[Parallel(n_jobs=-1)]: Done   1 out of   1 | elapsed:    0.5s finished\n",
      "\n",
      "[2020-10-28 11:33:59] Features: 24/24 -- score: 0.6821428571428572"
     ]
    }
   ],
   "source": [
    "sfs=sfs.fit(x_train,y_train)"
   ]
  },
  {
   "cell_type": "code",
   "execution_count": 22,
   "metadata": {},
   "outputs": [],
   "source": [
    "sfs = SFS(knn,\n",
    "        k_features=9,\n",
    "        forward=True,\n",
    "        floating=False,\n",
    "        verbose=2,\n",
    "        scoring='accuracy',\n",
    "        cv=5,\n",
    "        n_jobs=-1)"
   ]
  },
  {
   "cell_type": "code",
   "execution_count": 23,
   "metadata": {},
   "outputs": [
    {
     "name": "stderr",
     "output_type": "stream",
     "text": [
      "[Parallel(n_jobs=-1)]: Using backend LokyBackend with 4 concurrent workers.\n",
      "[Parallel(n_jobs=-1)]: Done  24 out of  24 | elapsed:    7.2s finished\n",
      "\n",
      "[2020-10-28 11:43:40] Features: 1/9 -- score: 0.8428571428571429[Parallel(n_jobs=-1)]: Using backend LokyBackend with 4 concurrent workers.\n",
      "[Parallel(n_jobs=-1)]: Done  23 out of  23 | elapsed:    3.3s finished\n",
      "\n",
      "[2020-10-28 11:43:43] Features: 2/9 -- score: 0.9142857142857143[Parallel(n_jobs=-1)]: Using backend LokyBackend with 4 concurrent workers.\n",
      "[Parallel(n_jobs=-1)]: Done  22 out of  22 | elapsed:    3.4s finished\n",
      "\n",
      "[2020-10-28 11:43:46] Features: 3/9 -- score: 0.9321428571428572[Parallel(n_jobs=-1)]: Using backend LokyBackend with 4 concurrent workers.\n",
      "[Parallel(n_jobs=-1)]: Done  21 out of  21 | elapsed:    3.4s finished\n",
      "\n",
      "[2020-10-28 11:43:50] Features: 4/9 -- score: 0.9392857142857144[Parallel(n_jobs=-1)]: Using backend LokyBackend with 4 concurrent workers.\n",
      "[Parallel(n_jobs=-1)]: Done  20 out of  20 | elapsed:    2.8s finished\n",
      "\n",
      "[2020-10-28 11:43:53] Features: 5/9 -- score: 0.9464285714285714[Parallel(n_jobs=-1)]: Using backend LokyBackend with 4 concurrent workers.\n",
      "[Parallel(n_jobs=-1)]: Done  19 out of  19 | elapsed:    2.6s finished\n",
      "\n",
      "[2020-10-28 11:43:56] Features: 6/9 -- score: 0.95[Parallel(n_jobs=-1)]: Using backend LokyBackend with 4 concurrent workers.\n",
      "[Parallel(n_jobs=-1)]: Done  18 out of  18 | elapsed:    2.7s finished\n",
      "\n",
      "[2020-10-28 11:43:58] Features: 7/9 -- score: 0.95[Parallel(n_jobs=-1)]: Using backend LokyBackend with 4 concurrent workers.\n",
      "[Parallel(n_jobs=-1)]: Done  17 out of  17 | elapsed:    2.6s finished\n",
      "\n",
      "[2020-10-28 11:44:01] Features: 8/9 -- score: 0.95[Parallel(n_jobs=-1)]: Using backend LokyBackend with 4 concurrent workers.\n",
      "[Parallel(n_jobs=-1)]: Done  16 out of  16 | elapsed:    2.1s finished\n",
      "\n",
      "[2020-10-28 11:44:03] Features: 9/9 -- score: 0.95"
     ]
    }
   ],
   "source": [
    "sfs=sfs.fit(x_train,y_train)"
   ]
  },
  {
   "cell_type": "code",
   "execution_count": 24,
   "metadata": {},
   "outputs": [
    {
     "data": {
      "text/html": [
       "<div>\n",
       "<style scoped>\n",
       "    .dataframe tbody tr th:only-of-type {\n",
       "        vertical-align: middle;\n",
       "    }\n",
       "\n",
       "    .dataframe tbody tr th {\n",
       "        vertical-align: top;\n",
       "    }\n",
       "\n",
       "    .dataframe thead th {\n",
       "        text-align: right;\n",
       "    }\n",
       "</style>\n",
       "<table border=\"1\" class=\"dataframe\">\n",
       "  <thead>\n",
       "    <tr style=\"text-align: right;\">\n",
       "      <th></th>\n",
       "      <th>feature_idx</th>\n",
       "      <th>cv_scores</th>\n",
       "      <th>avg_score</th>\n",
       "      <th>feature_names</th>\n",
       "      <th>ci_bound</th>\n",
       "      <th>std_dev</th>\n",
       "      <th>std_err</th>\n",
       "    </tr>\n",
       "  </thead>\n",
       "  <tbody>\n",
       "    <tr>\n",
       "      <td>1</td>\n",
       "      <td>(14,)</td>\n",
       "      <td>[0.8035714285714286, 0.9107142857142857, 0.857...</td>\n",
       "      <td>0.842857</td>\n",
       "      <td>(hemo,)</td>\n",
       "      <td>0.065563</td>\n",
       "      <td>0.0510102</td>\n",
       "      <td>0.0255051</td>\n",
       "    </tr>\n",
       "    <tr>\n",
       "      <td>2</td>\n",
       "      <td>(3, 14)</td>\n",
       "      <td>[0.875, 0.9464285714285714, 0.8928571428571429...</td>\n",
       "      <td>0.914286</td>\n",
       "      <td>(al, hemo)</td>\n",
       "      <td>0.0367226</td>\n",
       "      <td>0.0285714</td>\n",
       "      <td>0.0142857</td>\n",
       "    </tr>\n",
       "    <tr>\n",
       "      <td>3</td>\n",
       "      <td>(3, 14, 19)</td>\n",
       "      <td>[0.8928571428571429, 0.9642857142857143, 0.928...</td>\n",
       "      <td>0.932143</td>\n",
       "      <td>(al, hemo, dm)</td>\n",
       "      <td>0.0304488</td>\n",
       "      <td>0.0236902</td>\n",
       "      <td>0.0118451</td>\n",
       "    </tr>\n",
       "    <tr>\n",
       "      <td>4</td>\n",
       "      <td>(3, 14, 18, 19)</td>\n",
       "      <td>[0.9107142857142857, 0.9642857142857143, 0.964...</td>\n",
       "      <td>0.939286</td>\n",
       "      <td>(al, hemo, htn, dm)</td>\n",
       "      <td>0.0275419</td>\n",
       "      <td>0.0214286</td>\n",
       "      <td>0.0107143</td>\n",
       "    </tr>\n",
       "    <tr>\n",
       "      <td>5</td>\n",
       "      <td>(3, 14, 18, 19, 21)</td>\n",
       "      <td>[0.9107142857142857, 0.9821428571428571, 0.964...</td>\n",
       "      <td>0.946429</td>\n",
       "      <td>(al, hemo, htn, dm, appet)</td>\n",
       "      <td>0.0324585</td>\n",
       "      <td>0.0252538</td>\n",
       "      <td>0.0126269</td>\n",
       "    </tr>\n",
       "    <tr>\n",
       "      <td>6</td>\n",
       "      <td>(3, 14, 18, 19, 21, 23)</td>\n",
       "      <td>[0.9107142857142857, 1.0, 0.9642857142857143, ...</td>\n",
       "      <td>0.95</td>\n",
       "      <td>(al, hemo, htn, dm, appet, ane)</td>\n",
       "      <td>0.0394875</td>\n",
       "      <td>0.0307226</td>\n",
       "      <td>0.0153613</td>\n",
       "    </tr>\n",
       "    <tr>\n",
       "      <td>7</td>\n",
       "      <td>(2, 3, 14, 18, 19, 21, 23)</td>\n",
       "      <td>[0.9107142857142857, 1.0, 0.9642857142857143, ...</td>\n",
       "      <td>0.95</td>\n",
       "      <td>(sg, al, hemo, htn, dm, appet, ane)</td>\n",
       "      <td>0.0394875</td>\n",
       "      <td>0.0307226</td>\n",
       "      <td>0.0153613</td>\n",
       "    </tr>\n",
       "    <tr>\n",
       "      <td>8</td>\n",
       "      <td>(2, 3, 7, 14, 18, 19, 21, 23)</td>\n",
       "      <td>[0.9107142857142857, 1.0, 0.9642857142857143, ...</td>\n",
       "      <td>0.95</td>\n",
       "      <td>(sg, al, pcc, hemo, htn, dm, appet, ane)</td>\n",
       "      <td>0.0394875</td>\n",
       "      <td>0.0307226</td>\n",
       "      <td>0.0153613</td>\n",
       "    </tr>\n",
       "    <tr>\n",
       "      <td>9</td>\n",
       "      <td>(2, 3, 7, 8, 14, 18, 19, 21, 23)</td>\n",
       "      <td>[0.9107142857142857, 1.0, 0.9642857142857143, ...</td>\n",
       "      <td>0.95</td>\n",
       "      <td>(sg, al, pcc, ba, hemo, htn, dm, appet, ane)</td>\n",
       "      <td>0.0394875</td>\n",
       "      <td>0.0307226</td>\n",
       "      <td>0.0153613</td>\n",
       "    </tr>\n",
       "  </tbody>\n",
       "</table>\n",
       "</div>"
      ],
      "text/plain": [
       "                        feature_idx  \\\n",
       "1                             (14,)   \n",
       "2                           (3, 14)   \n",
       "3                       (3, 14, 19)   \n",
       "4                   (3, 14, 18, 19)   \n",
       "5               (3, 14, 18, 19, 21)   \n",
       "6           (3, 14, 18, 19, 21, 23)   \n",
       "7        (2, 3, 14, 18, 19, 21, 23)   \n",
       "8     (2, 3, 7, 14, 18, 19, 21, 23)   \n",
       "9  (2, 3, 7, 8, 14, 18, 19, 21, 23)   \n",
       "\n",
       "                                           cv_scores avg_score  \\\n",
       "1  [0.8035714285714286, 0.9107142857142857, 0.857...  0.842857   \n",
       "2  [0.875, 0.9464285714285714, 0.8928571428571429...  0.914286   \n",
       "3  [0.8928571428571429, 0.9642857142857143, 0.928...  0.932143   \n",
       "4  [0.9107142857142857, 0.9642857142857143, 0.964...  0.939286   \n",
       "5  [0.9107142857142857, 0.9821428571428571, 0.964...  0.946429   \n",
       "6  [0.9107142857142857, 1.0, 0.9642857142857143, ...      0.95   \n",
       "7  [0.9107142857142857, 1.0, 0.9642857142857143, ...      0.95   \n",
       "8  [0.9107142857142857, 1.0, 0.9642857142857143, ...      0.95   \n",
       "9  [0.9107142857142857, 1.0, 0.9642857142857143, ...      0.95   \n",
       "\n",
       "                                  feature_names   ci_bound    std_dev  \\\n",
       "1                                       (hemo,)   0.065563  0.0510102   \n",
       "2                                    (al, hemo)  0.0367226  0.0285714   \n",
       "3                                (al, hemo, dm)  0.0304488  0.0236902   \n",
       "4                           (al, hemo, htn, dm)  0.0275419  0.0214286   \n",
       "5                    (al, hemo, htn, dm, appet)  0.0324585  0.0252538   \n",
       "6               (al, hemo, htn, dm, appet, ane)  0.0394875  0.0307226   \n",
       "7           (sg, al, hemo, htn, dm, appet, ane)  0.0394875  0.0307226   \n",
       "8      (sg, al, pcc, hemo, htn, dm, appet, ane)  0.0394875  0.0307226   \n",
       "9  (sg, al, pcc, ba, hemo, htn, dm, appet, ane)  0.0394875  0.0307226   \n",
       "\n",
       "     std_err  \n",
       "1  0.0255051  \n",
       "2  0.0142857  \n",
       "3  0.0118451  \n",
       "4  0.0107143  \n",
       "5  0.0126269  \n",
       "6  0.0153613  \n",
       "7  0.0153613  \n",
       "8  0.0153613  \n",
       "9  0.0153613  "
      ]
     },
     "execution_count": 24,
     "metadata": {},
     "output_type": "execute_result"
    }
   ],
   "source": [
    "pd.DataFrame.from_dict(sfs.get_metric_dict()).T"
   ]
  },
  {
   "cell_type": "code",
   "execution_count": 25,
   "metadata": {},
   "outputs": [
    {
     "data": {
      "text/plain": [
       "(2, 3, 7, 8, 14, 18, 19, 21, 23)"
      ]
     },
     "execution_count": 25,
     "metadata": {},
     "output_type": "execute_result"
    }
   ],
   "source": [
    "sfs.k_feature_idx_"
   ]
  },
  {
   "cell_type": "code",
   "execution_count": 26,
   "metadata": {},
   "outputs": [],
   "source": [
    "xtrain_fs=sfs.transform(x_train)\n",
    "xtest_fs=sfs.transform(x_test)"
   ]
  },
  {
   "cell_type": "code",
   "execution_count": 27,
   "metadata": {},
   "outputs": [
    {
     "data": {
      "text/plain": [
       "KNeighborsClassifier(metric='euclidean', n_jobs=-1, n_neighbors=3,\n",
       "                     weights='distance')"
      ]
     },
     "execution_count": 27,
     "metadata": {},
     "output_type": "execute_result"
    }
   ],
   "source": [
    "knn.fit(xtrain_fs,y_train)"
   ]
  },
  {
   "cell_type": "code",
   "execution_count": 28,
   "metadata": {},
   "outputs": [],
   "source": [
    "ypred=knn.predict(xtest_fs)"
   ]
  },
  {
   "cell_type": "code",
   "execution_count": 29,
   "metadata": {},
   "outputs": [
    {
     "name": "stdout",
     "output_type": "stream",
     "text": [
      "acc :  99.16666666666667\n"
     ]
    }
   ],
   "source": [
    "print('acc : ',accuracy_score(y_test,ypred)*100)"
   ]
  },
  {
   "cell_type": "code",
   "execution_count": null,
   "metadata": {},
   "outputs": [],
   "source": []
  }
 ],
 "metadata": {
  "kernelspec": {
   "display_name": "Python 3",
   "language": "python",
   "name": "python3"
  },
  "language_info": {
   "codemirror_mode": {
    "name": "ipython",
    "version": 3
   },
   "file_extension": ".py",
   "mimetype": "text/x-python",
   "name": "python",
   "nbconvert_exporter": "python",
   "pygments_lexer": "ipython3",
   "version": "3.7.4"
  }
 },
 "nbformat": 4,
 "nbformat_minor": 2
}
