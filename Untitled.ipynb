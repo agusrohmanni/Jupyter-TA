{
 "cells": [
  {
   "cell_type": "code",
   "execution_count": 1,
   "metadata": {},
   "outputs": [],
   "source": [
    "import pandas as pd\n",
    "import numpy as np\n",
    "import matplotlib.pyplot as plt\n",
    "import seaborn as sns\n",
    "import warnings\n",
    "%matplotlib inline\n",
    "warnings.filterwarnings(\"ignore\")\n",
    "from sklearn.model_selection import train_test_split\n",
    "from sklearn.metrics import roc_auc_score\n",
    "from mlxtend.feature_selection import SequentialFeatureSelector as SFS\n",
    "from sklearn.neighbors import KNeighborsClassifier\n",
    "from sklearn.model_selection import cross_val_score\n",
    "from sklearn.metrics import accuracy_score\n",
    "from sklearn.impute import KNNImputer"
   ]
  },
  {
   "cell_type": "code",
   "execution_count": 2,
   "metadata": {},
   "outputs": [
    {
     "data": {
      "text/html": [
       "<div>\n",
       "<style scoped>\n",
       "    .dataframe tbody tr th:only-of-type {\n",
       "        vertical-align: middle;\n",
       "    }\n",
       "\n",
       "    .dataframe tbody tr th {\n",
       "        vertical-align: top;\n",
       "    }\n",
       "\n",
       "    .dataframe thead th {\n",
       "        text-align: right;\n",
       "    }\n",
       "</style>\n",
       "<table border=\"1\" class=\"dataframe\">\n",
       "  <thead>\n",
       "    <tr style=\"text-align: right;\">\n",
       "      <th></th>\n",
       "      <th>age</th>\n",
       "      <th>bp</th>\n",
       "      <th>sg</th>\n",
       "      <th>al</th>\n",
       "      <th>su</th>\n",
       "      <th>rbc</th>\n",
       "      <th>pc</th>\n",
       "      <th>pcc</th>\n",
       "      <th>ba</th>\n",
       "      <th>bgr</th>\n",
       "      <th>...</th>\n",
       "      <th>pcv</th>\n",
       "      <th>wc</th>\n",
       "      <th>rc</th>\n",
       "      <th>htn</th>\n",
       "      <th>dm</th>\n",
       "      <th>cad</th>\n",
       "      <th>appet</th>\n",
       "      <th>pe</th>\n",
       "      <th>ane</th>\n",
       "      <th>class</th>\n",
       "    </tr>\n",
       "  </thead>\n",
       "  <tbody>\n",
       "    <tr>\n",
       "      <td>0</td>\n",
       "      <td>48.0</td>\n",
       "      <td>80.0</td>\n",
       "      <td>1.020</td>\n",
       "      <td>1.0</td>\n",
       "      <td>0.0</td>\n",
       "      <td>0.0</td>\n",
       "      <td>0.0</td>\n",
       "      <td>0.0</td>\n",
       "      <td>0.0</td>\n",
       "      <td>121.0</td>\n",
       "      <td>...</td>\n",
       "      <td>44.0</td>\n",
       "      <td>7800.0</td>\n",
       "      <td>5.2</td>\n",
       "      <td>1.0</td>\n",
       "      <td>1.0</td>\n",
       "      <td>0.0</td>\n",
       "      <td>1.0</td>\n",
       "      <td>0.0</td>\n",
       "      <td>0.0</td>\n",
       "      <td>1.0</td>\n",
       "    </tr>\n",
       "    <tr>\n",
       "      <td>1</td>\n",
       "      <td>7.0</td>\n",
       "      <td>50.0</td>\n",
       "      <td>1.020</td>\n",
       "      <td>4.0</td>\n",
       "      <td>0.0</td>\n",
       "      <td>0.0</td>\n",
       "      <td>0.0</td>\n",
       "      <td>0.0</td>\n",
       "      <td>0.0</td>\n",
       "      <td>101.5</td>\n",
       "      <td>...</td>\n",
       "      <td>38.0</td>\n",
       "      <td>6000.0</td>\n",
       "      <td>5.5</td>\n",
       "      <td>0.0</td>\n",
       "      <td>0.0</td>\n",
       "      <td>0.0</td>\n",
       "      <td>1.0</td>\n",
       "      <td>0.0</td>\n",
       "      <td>0.0</td>\n",
       "      <td>1.0</td>\n",
       "    </tr>\n",
       "    <tr>\n",
       "      <td>2</td>\n",
       "      <td>62.0</td>\n",
       "      <td>80.0</td>\n",
       "      <td>1.010</td>\n",
       "      <td>2.0</td>\n",
       "      <td>3.0</td>\n",
       "      <td>0.0</td>\n",
       "      <td>0.0</td>\n",
       "      <td>0.0</td>\n",
       "      <td>0.0</td>\n",
       "      <td>423.0</td>\n",
       "      <td>...</td>\n",
       "      <td>31.0</td>\n",
       "      <td>7500.0</td>\n",
       "      <td>3.2</td>\n",
       "      <td>0.0</td>\n",
       "      <td>1.0</td>\n",
       "      <td>0.0</td>\n",
       "      <td>0.0</td>\n",
       "      <td>0.0</td>\n",
       "      <td>1.0</td>\n",
       "      <td>1.0</td>\n",
       "    </tr>\n",
       "    <tr>\n",
       "      <td>3</td>\n",
       "      <td>48.0</td>\n",
       "      <td>70.0</td>\n",
       "      <td>1.005</td>\n",
       "      <td>4.0</td>\n",
       "      <td>0.0</td>\n",
       "      <td>0.0</td>\n",
       "      <td>1.0</td>\n",
       "      <td>1.0</td>\n",
       "      <td>0.0</td>\n",
       "      <td>117.0</td>\n",
       "      <td>...</td>\n",
       "      <td>32.0</td>\n",
       "      <td>6700.0</td>\n",
       "      <td>3.9</td>\n",
       "      <td>1.0</td>\n",
       "      <td>0.0</td>\n",
       "      <td>0.0</td>\n",
       "      <td>0.0</td>\n",
       "      <td>1.0</td>\n",
       "      <td>1.0</td>\n",
       "      <td>1.0</td>\n",
       "    </tr>\n",
       "    <tr>\n",
       "      <td>4</td>\n",
       "      <td>51.0</td>\n",
       "      <td>80.0</td>\n",
       "      <td>1.010</td>\n",
       "      <td>2.0</td>\n",
       "      <td>0.0</td>\n",
       "      <td>0.0</td>\n",
       "      <td>0.0</td>\n",
       "      <td>0.0</td>\n",
       "      <td>0.0</td>\n",
       "      <td>106.0</td>\n",
       "      <td>...</td>\n",
       "      <td>35.0</td>\n",
       "      <td>7300.0</td>\n",
       "      <td>4.6</td>\n",
       "      <td>0.0</td>\n",
       "      <td>0.0</td>\n",
       "      <td>0.0</td>\n",
       "      <td>1.0</td>\n",
       "      <td>0.0</td>\n",
       "      <td>0.0</td>\n",
       "      <td>1.0</td>\n",
       "    </tr>\n",
       "  </tbody>\n",
       "</table>\n",
       "<p>5 rows × 25 columns</p>\n",
       "</div>"
      ],
      "text/plain": [
       "    age    bp     sg   al   su  rbc   pc  pcc   ba    bgr  ...   pcv      wc  \\\n",
       "0  48.0  80.0  1.020  1.0  0.0  0.0  0.0  0.0  0.0  121.0  ...  44.0  7800.0   \n",
       "1   7.0  50.0  1.020  4.0  0.0  0.0  0.0  0.0  0.0  101.5  ...  38.0  6000.0   \n",
       "2  62.0  80.0  1.010  2.0  3.0  0.0  0.0  0.0  0.0  423.0  ...  31.0  7500.0   \n",
       "3  48.0  70.0  1.005  4.0  0.0  0.0  1.0  1.0  0.0  117.0  ...  32.0  6700.0   \n",
       "4  51.0  80.0  1.010  2.0  0.0  0.0  0.0  0.0  0.0  106.0  ...  35.0  7300.0   \n",
       "\n",
       "    rc  htn   dm  cad  appet   pe  ane  class  \n",
       "0  5.2  1.0  1.0  0.0    1.0  0.0  0.0    1.0  \n",
       "1  5.5  0.0  0.0  0.0    1.0  0.0  0.0    1.0  \n",
       "2  3.2  0.0  1.0  0.0    0.0  0.0  1.0    1.0  \n",
       "3  3.9  1.0  0.0  0.0    0.0  1.0  1.0    1.0  \n",
       "4  4.6  0.0  0.0  0.0    1.0  0.0  0.0    1.0  \n",
       "\n",
       "[5 rows x 25 columns]"
      ]
     },
     "execution_count": 2,
     "metadata": {},
     "output_type": "execute_result"
    }
   ],
   "source": [
    "df=pd.read_csv('CleanD.csv')\n",
    "df.head()"
   ]
  },
  {
   "cell_type": "code",
   "execution_count": 3,
   "metadata": {},
   "outputs": [],
   "source": [
    "y=df['class']\n",
    "x=df.drop(['class'],axis=1)"
   ]
  },
  {
   "cell_type": "code",
   "execution_count": 4,
   "metadata": {},
   "outputs": [],
   "source": [
    "x_train,x_test,y_train,y_test=train_test_split(x,y,random_state=42,test_size=0.3)"
   ]
  },
  {
   "cell_type": "code",
   "execution_count": 5,
   "metadata": {},
   "outputs": [
    {
     "data": {
      "text/plain": [
       "KNeighborsClassifier(metric='euclidean', n_jobs=-1, n_neighbors=3,\n",
       "                     weights='distance')"
      ]
     },
     "execution_count": 5,
     "metadata": {},
     "output_type": "execute_result"
    }
   ],
   "source": [
    "knn = KNeighborsClassifier(n_neighbors=3, metric = 'euclidean',n_jobs=-1,\n",
    "                                      weights='distance')\n",
    "knn.fit(x_train,y_train)"
   ]
  },
  {
   "cell_type": "code",
   "execution_count": 6,
   "metadata": {},
   "outputs": [
    {
     "name": "stdout",
     "output_type": "stream",
     "text": [
      "acc :  66.66666666666666\n"
     ]
    }
   ],
   "source": [
    "ypred=knn.predict(x_test)\n",
    "print('acc : ',accuracy_score(y_test,ypred)*100)"
   ]
  },
  {
   "cell_type": "code",
   "execution_count": 25,
   "metadata": {},
   "outputs": [],
   "source": [
    "sfs = SFS(knn,\n",
    "        k_features=24,\n",
    "        forward=True,\n",
    "        floating=False,\n",
    "        verbose=2,\n",
    "        scoring='accuracy',\n",
    "        cv=5,\n",
    "        n_jobs=-1)"
   ]
  },
  {
   "cell_type": "code",
   "execution_count": 26,
   "metadata": {},
   "outputs": [
    {
     "name": "stderr",
     "output_type": "stream",
     "text": [
      "[Parallel(n_jobs=-1)]: Using backend LokyBackend with 4 concurrent workers.\n",
      "[Parallel(n_jobs=-1)]: Done  24 out of  24 | elapsed:    6.9s finished\n",
      "\n",
      "[2020-10-28 12:18:44] Features: 1/24 -- score: 0.875[Parallel(n_jobs=-1)]: Using backend LokyBackend with 4 concurrent workers.\n",
      "[Parallel(n_jobs=-1)]: Done  23 out of  23 | elapsed:    3.6s finished\n",
      "\n",
      "[2020-10-28 12:18:48] Features: 2/24 -- score: 0.9425000000000001[Parallel(n_jobs=-1)]: Using backend LokyBackend with 4 concurrent workers.\n",
      "[Parallel(n_jobs=-1)]: Done  22 out of  22 | elapsed:    3.3s finished\n",
      "\n",
      "[2020-10-28 12:18:51] Features: 3/24 -- score: 0.96[Parallel(n_jobs=-1)]: Using backend LokyBackend with 4 concurrent workers.\n",
      "[Parallel(n_jobs=-1)]: Done  21 out of  21 | elapsed:    3.2s finished\n",
      "\n",
      "[2020-10-28 12:18:55] Features: 4/24 -- score: 0.9625[Parallel(n_jobs=-1)]: Using backend LokyBackend with 4 concurrent workers.\n",
      "[Parallel(n_jobs=-1)]: Done  20 out of  20 | elapsed:    3.0s finished\n",
      "\n",
      "[2020-10-28 12:18:58] Features: 5/24 -- score: 0.9675[Parallel(n_jobs=-1)]: Using backend LokyBackend with 4 concurrent workers.\n",
      "[Parallel(n_jobs=-1)]: Done  19 out of  19 | elapsed:    2.9s finished\n",
      "\n",
      "[2020-10-28 12:19:01] Features: 6/24 -- score: 0.97[Parallel(n_jobs=-1)]: Using backend LokyBackend with 4 concurrent workers.\n",
      "[Parallel(n_jobs=-1)]: Done  18 out of  18 | elapsed:    2.6s finished\n",
      "\n",
      "[2020-10-28 12:19:03] Features: 7/24 -- score: 0.97[Parallel(n_jobs=-1)]: Using backend LokyBackend with 4 concurrent workers.\n",
      "[Parallel(n_jobs=-1)]: Done  17 out of  17 | elapsed:    2.9s finished\n",
      "\n",
      "[2020-10-28 12:19:06] Features: 8/24 -- score: 0.97[Parallel(n_jobs=-1)]: Using backend LokyBackend with 4 concurrent workers.\n",
      "[Parallel(n_jobs=-1)]: Done  16 out of  16 | elapsed:    2.3s finished\n",
      "\n",
      "[2020-10-28 12:19:09] Features: 9/24 -- score: 0.97[Parallel(n_jobs=-1)]: Using backend LokyBackend with 4 concurrent workers.\n",
      "[Parallel(n_jobs=-1)]: Done  15 out of  15 | elapsed:    2.4s finished\n",
      "\n",
      "[2020-10-28 12:19:11] Features: 10/24 -- score: 0.97[Parallel(n_jobs=-1)]: Using backend LokyBackend with 4 concurrent workers.\n",
      "[Parallel(n_jobs=-1)]: Done  14 out of  14 | elapsed:    2.2s finished\n",
      "\n",
      "[2020-10-28 12:19:14] Features: 11/24 -- score: 0.9675[Parallel(n_jobs=-1)]: Using backend LokyBackend with 4 concurrent workers.\n",
      "[Parallel(n_jobs=-1)]: Done  13 out of  13 | elapsed:    2.2s remaining:    0.0s\n",
      "[Parallel(n_jobs=-1)]: Done  13 out of  13 | elapsed:    2.2s finished\n",
      "\n",
      "[2020-10-28 12:19:16] Features: 12/24 -- score: 0.9625[Parallel(n_jobs=-1)]: Using backend LokyBackend with 4 concurrent workers.\n",
      "[Parallel(n_jobs=-1)]: Done  12 out of  12 | elapsed:    1.6s remaining:    0.0s\n",
      "[Parallel(n_jobs=-1)]: Done  12 out of  12 | elapsed:    1.6s finished\n",
      "\n",
      "[2020-10-28 12:19:18] Features: 13/24 -- score: 0.9650000000000001[Parallel(n_jobs=-1)]: Using backend LokyBackend with 4 concurrent workers.\n",
      "[Parallel(n_jobs=-1)]: Done  11 out of  11 | elapsed:    1.6s finished\n",
      "\n",
      "[2020-10-28 12:19:19] Features: 14/24 -- score: 0.9574999999999999[Parallel(n_jobs=-1)]: Using backend LokyBackend with 4 concurrent workers.\n",
      "[Parallel(n_jobs=-1)]: Done  10 out of  10 | elapsed:    1.6s finished\n",
      "\n",
      "[2020-10-28 12:19:21] Features: 15/24 -- score: 0.9525[Parallel(n_jobs=-1)]: Using backend LokyBackend with 4 concurrent workers.\n",
      "[Parallel(n_jobs=-1)]: Done   7 out of   9 | elapsed:    1.0s remaining:    0.2s\n",
      "[Parallel(n_jobs=-1)]: Done   9 out of   9 | elapsed:    1.5s finished\n",
      "\n",
      "[2020-10-28 12:19:23] Features: 16/24 -- score: 0.9349999999999999[Parallel(n_jobs=-1)]: Using backend LokyBackend with 4 concurrent workers.\n",
      "[Parallel(n_jobs=-1)]: Done   6 out of   8 | elapsed:    1.0s remaining:    0.3s\n",
      "[Parallel(n_jobs=-1)]: Done   8 out of   8 | elapsed:    1.0s finished\n",
      "\n",
      "[2020-10-28 12:19:24] Features: 17/24 -- score: 0.9425000000000001[Parallel(n_jobs=-1)]: Using backend LokyBackend with 4 concurrent workers.\n",
      "[Parallel(n_jobs=-1)]: Done   4 out of   7 | elapsed:    0.5s remaining:    0.3s\n",
      "[Parallel(n_jobs=-1)]: Done   7 out of   7 | elapsed:    1.0s finished\n",
      "\n",
      "[2020-10-28 12:19:25] Features: 18/24 -- score: 0.9425000000000001[Parallel(n_jobs=-1)]: Using backend LokyBackend with 4 concurrent workers.\n",
      "[Parallel(n_jobs=-1)]: Done   3 out of   6 | elapsed:    0.5s remaining:    0.5s\n",
      "[Parallel(n_jobs=-1)]: Done   6 out of   6 | elapsed:    1.0s finished\n",
      "\n",
      "[2020-10-28 12:19:26] Features: 19/24 -- score: 0.93[Parallel(n_jobs=-1)]: Using backend LokyBackend with 4 concurrent workers.\n",
      "[Parallel(n_jobs=-1)]: Done   5 out of   5 | elapsed:    1.1s finished\n",
      "\n",
      "[2020-10-28 12:19:27] Features: 20/24 -- score: 0.9175000000000001[Parallel(n_jobs=-1)]: Using backend LokyBackend with 4 concurrent workers.\n",
      "[Parallel(n_jobs=-1)]: Done   4 out of   4 | elapsed:    0.5s finished\n",
      "\n",
      "[2020-10-28 12:19:28] Features: 21/24 -- score: 0.905[Parallel(n_jobs=-1)]: Using backend LokyBackend with 4 concurrent workers.\n",
      "[Parallel(n_jobs=-1)]: Done   3 out of   3 | elapsed:    0.5s finished\n",
      "\n",
      "[2020-10-28 12:19:28] Features: 22/24 -- score: 0.8800000000000001[Parallel(n_jobs=-1)]: Using backend LokyBackend with 4 concurrent workers.\n",
      "[Parallel(n_jobs=-1)]: Done   2 out of   2 | elapsed:    0.5s finished\n",
      "\n",
      "[2020-10-28 12:19:29] Features: 23/24 -- score: 0.8525[Parallel(n_jobs=-1)]: Using backend LokyBackend with 4 concurrent workers.\n",
      "[Parallel(n_jobs=-1)]: Done   1 out of   1 | elapsed:    0.5s finished\n",
      "\n",
      "[2020-10-28 12:19:30] Features: 24/24 -- score: 0.7074999999999999"
     ]
    }
   ],
   "source": [
    "sfs=sfs.fit(x,y)"
   ]
  },
  {
   "cell_type": "code",
   "execution_count": 27,
   "metadata": {},
   "outputs": [],
   "source": [
    "sfs = SFS(knn,\n",
    "        k_features=10,\n",
    "        forward=True,\n",
    "        floating=False,\n",
    "        verbose=2,\n",
    "        scoring='accuracy',\n",
    "        cv=5,\n",
    "        n_jobs=-1)"
   ]
  },
  {
   "cell_type": "code",
   "execution_count": 28,
   "metadata": {},
   "outputs": [
    {
     "name": "stderr",
     "output_type": "stream",
     "text": [
      "[Parallel(n_jobs=-1)]: Using backend LokyBackend with 4 concurrent workers.\n",
      "[Parallel(n_jobs=-1)]: Done  24 out of  24 | elapsed:    3.3s finished\n",
      "\n",
      "[2020-10-28 12:19:54] Features: 1/10 -- score: 0.875[Parallel(n_jobs=-1)]: Using backend LokyBackend with 4 concurrent workers.\n",
      "[Parallel(n_jobs=-1)]: Done  23 out of  23 | elapsed:    3.3s finished\n",
      "\n",
      "[2020-10-28 12:19:57] Features: 2/10 -- score: 0.9425000000000001[Parallel(n_jobs=-1)]: Using backend LokyBackend with 4 concurrent workers.\n",
      "[Parallel(n_jobs=-1)]: Done  22 out of  22 | elapsed:    3.4s finished\n",
      "\n",
      "[2020-10-28 12:20:01] Features: 3/10 -- score: 0.96[Parallel(n_jobs=-1)]: Using backend LokyBackend with 4 concurrent workers.\n",
      "[Parallel(n_jobs=-1)]: Done  21 out of  21 | elapsed:    3.1s finished\n",
      "\n",
      "[2020-10-28 12:20:04] Features: 4/10 -- score: 0.9625[Parallel(n_jobs=-1)]: Using backend LokyBackend with 4 concurrent workers.\n",
      "[Parallel(n_jobs=-1)]: Done  20 out of  20 | elapsed:    2.7s finished\n",
      "\n",
      "[2020-10-28 12:20:07] Features: 5/10 -- score: 0.9675[Parallel(n_jobs=-1)]: Using backend LokyBackend with 4 concurrent workers.\n",
      "[Parallel(n_jobs=-1)]: Done  19 out of  19 | elapsed:    2.6s finished\n",
      "\n",
      "[2020-10-28 12:20:10] Features: 6/10 -- score: 0.97[Parallel(n_jobs=-1)]: Using backend LokyBackend with 4 concurrent workers.\n",
      "[Parallel(n_jobs=-1)]: Done  18 out of  18 | elapsed:    2.6s finished\n",
      "\n",
      "[2020-10-28 12:20:12] Features: 7/10 -- score: 0.97[Parallel(n_jobs=-1)]: Using backend LokyBackend with 4 concurrent workers.\n",
      "[Parallel(n_jobs=-1)]: Done  17 out of  17 | elapsed:    2.6s finished\n",
      "\n",
      "[2020-10-28 12:20:15] Features: 8/10 -- score: 0.97[Parallel(n_jobs=-1)]: Using backend LokyBackend with 4 concurrent workers.\n",
      "[Parallel(n_jobs=-1)]: Done  16 out of  16 | elapsed:    2.1s finished\n",
      "\n",
      "[2020-10-28 12:20:17] Features: 9/10 -- score: 0.97[Parallel(n_jobs=-1)]: Using backend LokyBackend with 4 concurrent workers.\n",
      "[Parallel(n_jobs=-1)]: Done  15 out of  15 | elapsed:    2.1s finished\n",
      "\n",
      "[2020-10-28 12:20:19] Features: 10/10 -- score: 0.97"
     ]
    }
   ],
   "source": [
    "sfs=sfs.fit(x,y)"
   ]
  },
  {
   "cell_type": "code",
   "execution_count": 29,
   "metadata": {},
   "outputs": [
    {
     "data": {
      "text/html": [
       "<div>\n",
       "<style scoped>\n",
       "    .dataframe tbody tr th:only-of-type {\n",
       "        vertical-align: middle;\n",
       "    }\n",
       "\n",
       "    .dataframe tbody tr th {\n",
       "        vertical-align: top;\n",
       "    }\n",
       "\n",
       "    .dataframe thead th {\n",
       "        text-align: right;\n",
       "    }\n",
       "</style>\n",
       "<table border=\"1\" class=\"dataframe\">\n",
       "  <thead>\n",
       "    <tr style=\"text-align: right;\">\n",
       "      <th></th>\n",
       "      <th>feature_idx</th>\n",
       "      <th>cv_scores</th>\n",
       "      <th>avg_score</th>\n",
       "      <th>feature_names</th>\n",
       "      <th>ci_bound</th>\n",
       "      <th>std_dev</th>\n",
       "      <th>std_err</th>\n",
       "    </tr>\n",
       "  </thead>\n",
       "  <tbody>\n",
       "    <tr>\n",
       "      <td>1</td>\n",
       "      <td>(14,)</td>\n",
       "      <td>[0.8625, 0.8875, 0.875, 0.8625, 0.8875]</td>\n",
       "      <td>0.875</td>\n",
       "      <td>(hemo,)</td>\n",
       "      <td>0.01437</td>\n",
       "      <td>0.0111803</td>\n",
       "      <td>0.00559017</td>\n",
       "    </tr>\n",
       "    <tr>\n",
       "      <td>2</td>\n",
       "      <td>(3, 14)</td>\n",
       "      <td>[0.9375, 0.925, 0.95, 0.9625, 0.9375]</td>\n",
       "      <td>0.9425</td>\n",
       "      <td>(al, hemo)</td>\n",
       "      <td>0.0163843</td>\n",
       "      <td>0.0127475</td>\n",
       "      <td>0.00637377</td>\n",
       "    </tr>\n",
       "    <tr>\n",
       "      <td>3</td>\n",
       "      <td>(3, 14, 19)</td>\n",
       "      <td>[0.9625, 0.9375, 0.9625, 0.975, 0.9625]</td>\n",
       "      <td>0.96</td>\n",
       "      <td>(al, hemo, dm)</td>\n",
       "      <td>0.0157415</td>\n",
       "      <td>0.0122474</td>\n",
       "      <td>0.00612372</td>\n",
       "    </tr>\n",
       "    <tr>\n",
       "      <td>4</td>\n",
       "      <td>(3, 4, 14, 19)</td>\n",
       "      <td>[0.9625, 0.9625, 0.95, 0.975, 0.9625]</td>\n",
       "      <td>0.9625</td>\n",
       "      <td>(al, su, hemo, dm)</td>\n",
       "      <td>0.0101611</td>\n",
       "      <td>0.00790569</td>\n",
       "      <td>0.00395285</td>\n",
       "    </tr>\n",
       "    <tr>\n",
       "      <td>5</td>\n",
       "      <td>(3, 4, 14, 19, 22)</td>\n",
       "      <td>[0.975, 0.975, 0.95, 0.975, 0.9625]</td>\n",
       "      <td>0.9675</td>\n",
       "      <td>(al, su, hemo, dm, pe)</td>\n",
       "      <td>0.0128529</td>\n",
       "      <td>0.01</td>\n",
       "      <td>0.005</td>\n",
       "    </tr>\n",
       "    <tr>\n",
       "      <td>6</td>\n",
       "      <td>(3, 4, 14, 19, 21, 22)</td>\n",
       "      <td>[0.975, 0.9875, 0.95, 0.975, 0.9625]</td>\n",
       "      <td>0.97</td>\n",
       "      <td>(al, su, hemo, dm, appet, pe)</td>\n",
       "      <td>0.0163843</td>\n",
       "      <td>0.0127475</td>\n",
       "      <td>0.00637377</td>\n",
       "    </tr>\n",
       "    <tr>\n",
       "      <td>7</td>\n",
       "      <td>(2, 3, 4, 14, 19, 21, 22)</td>\n",
       "      <td>[0.975, 0.9875, 0.95, 0.975, 0.9625]</td>\n",
       "      <td>0.97</td>\n",
       "      <td>(sg, al, su, hemo, dm, appet, pe)</td>\n",
       "      <td>0.0163843</td>\n",
       "      <td>0.0127475</td>\n",
       "      <td>0.00637377</td>\n",
       "    </tr>\n",
       "    <tr>\n",
       "      <td>8</td>\n",
       "      <td>(2, 3, 4, 8, 14, 19, 21, 22)</td>\n",
       "      <td>[0.975, 0.9875, 0.95, 0.975, 0.9625]</td>\n",
       "      <td>0.97</td>\n",
       "      <td>(sg, al, su, ba, hemo, dm, appet, pe)</td>\n",
       "      <td>0.0163843</td>\n",
       "      <td>0.0127475</td>\n",
       "      <td>0.00637377</td>\n",
       "    </tr>\n",
       "    <tr>\n",
       "      <td>9</td>\n",
       "      <td>(2, 3, 4, 8, 14, 19, 20, 21, 22)</td>\n",
       "      <td>[0.975, 0.9875, 0.95, 0.975, 0.9625]</td>\n",
       "      <td>0.97</td>\n",
       "      <td>(sg, al, su, ba, hemo, dm, cad, appet, pe)</td>\n",
       "      <td>0.0163843</td>\n",
       "      <td>0.0127475</td>\n",
       "      <td>0.00637377</td>\n",
       "    </tr>\n",
       "    <tr>\n",
       "      <td>10</td>\n",
       "      <td>(2, 3, 4, 8, 14, 19, 20, 21, 22, 23)</td>\n",
       "      <td>[0.975, 0.9875, 0.95, 0.975, 0.9625]</td>\n",
       "      <td>0.97</td>\n",
       "      <td>(sg, al, su, ba, hemo, dm, cad, appet, pe, ane)</td>\n",
       "      <td>0.0163843</td>\n",
       "      <td>0.0127475</td>\n",
       "      <td>0.00637377</td>\n",
       "    </tr>\n",
       "  </tbody>\n",
       "</table>\n",
       "</div>"
      ],
      "text/plain": [
       "                             feature_idx  \\\n",
       "1                                  (14,)   \n",
       "2                                (3, 14)   \n",
       "3                            (3, 14, 19)   \n",
       "4                         (3, 4, 14, 19)   \n",
       "5                     (3, 4, 14, 19, 22)   \n",
       "6                 (3, 4, 14, 19, 21, 22)   \n",
       "7              (2, 3, 4, 14, 19, 21, 22)   \n",
       "8           (2, 3, 4, 8, 14, 19, 21, 22)   \n",
       "9       (2, 3, 4, 8, 14, 19, 20, 21, 22)   \n",
       "10  (2, 3, 4, 8, 14, 19, 20, 21, 22, 23)   \n",
       "\n",
       "                                  cv_scores avg_score  \\\n",
       "1   [0.8625, 0.8875, 0.875, 0.8625, 0.8875]     0.875   \n",
       "2     [0.9375, 0.925, 0.95, 0.9625, 0.9375]    0.9425   \n",
       "3   [0.9625, 0.9375, 0.9625, 0.975, 0.9625]      0.96   \n",
       "4     [0.9625, 0.9625, 0.95, 0.975, 0.9625]    0.9625   \n",
       "5       [0.975, 0.975, 0.95, 0.975, 0.9625]    0.9675   \n",
       "6      [0.975, 0.9875, 0.95, 0.975, 0.9625]      0.97   \n",
       "7      [0.975, 0.9875, 0.95, 0.975, 0.9625]      0.97   \n",
       "8      [0.975, 0.9875, 0.95, 0.975, 0.9625]      0.97   \n",
       "9      [0.975, 0.9875, 0.95, 0.975, 0.9625]      0.97   \n",
       "10     [0.975, 0.9875, 0.95, 0.975, 0.9625]      0.97   \n",
       "\n",
       "                                      feature_names   ci_bound     std_dev  \\\n",
       "1                                           (hemo,)    0.01437   0.0111803   \n",
       "2                                        (al, hemo)  0.0163843   0.0127475   \n",
       "3                                    (al, hemo, dm)  0.0157415   0.0122474   \n",
       "4                                (al, su, hemo, dm)  0.0101611  0.00790569   \n",
       "5                            (al, su, hemo, dm, pe)  0.0128529        0.01   \n",
       "6                     (al, su, hemo, dm, appet, pe)  0.0163843   0.0127475   \n",
       "7                 (sg, al, su, hemo, dm, appet, pe)  0.0163843   0.0127475   \n",
       "8             (sg, al, su, ba, hemo, dm, appet, pe)  0.0163843   0.0127475   \n",
       "9        (sg, al, su, ba, hemo, dm, cad, appet, pe)  0.0163843   0.0127475   \n",
       "10  (sg, al, su, ba, hemo, dm, cad, appet, pe, ane)  0.0163843   0.0127475   \n",
       "\n",
       "       std_err  \n",
       "1   0.00559017  \n",
       "2   0.00637377  \n",
       "3   0.00612372  \n",
       "4   0.00395285  \n",
       "5        0.005  \n",
       "6   0.00637377  \n",
       "7   0.00637377  \n",
       "8   0.00637377  \n",
       "9   0.00637377  \n",
       "10  0.00637377  "
      ]
     },
     "execution_count": 29,
     "metadata": {},
     "output_type": "execute_result"
    }
   ],
   "source": [
    "pd.DataFrame.from_dict(sfs.get_metric_dict()).T"
   ]
  },
  {
   "cell_type": "code",
   "execution_count": 30,
   "metadata": {},
   "outputs": [
    {
     "data": {
      "text/plain": [
       "(2, 3, 4, 8, 14, 19, 20, 21, 22, 23)"
      ]
     },
     "execution_count": 30,
     "metadata": {},
     "output_type": "execute_result"
    }
   ],
   "source": [
    "sfs.k_feature_idx_"
   ]
  },
  {
   "cell_type": "code",
   "execution_count": 31,
   "metadata": {},
   "outputs": [],
   "source": [
    "xtrain_fs=sfs.transform(x_train)\n",
    "xtest_fs=sfs.transform(x_test)"
   ]
  },
  {
   "cell_type": "code",
   "execution_count": 32,
   "metadata": {},
   "outputs": [
    {
     "data": {
      "text/plain": [
       "KNeighborsClassifier(metric='euclidean', n_jobs=-1, n_neighbors=3,\n",
       "                     weights='distance')"
      ]
     },
     "execution_count": 32,
     "metadata": {},
     "output_type": "execute_result"
    }
   ],
   "source": [
    "knn.fit(xtrain_fs,y_train)"
   ]
  },
  {
   "cell_type": "code",
   "execution_count": 33,
   "metadata": {},
   "outputs": [],
   "source": [
    "ypred=knn.predict(xtest_fs)"
   ]
  },
  {
   "cell_type": "code",
   "execution_count": 34,
   "metadata": {},
   "outputs": [
    {
     "name": "stdout",
     "output_type": "stream",
     "text": [
      "Test set accuracy: 99.17 %\n"
     ]
    }
   ],
   "source": [
    "acc = float((y_test == ypred).sum()) / ypred.shape[0]\n",
    "print('Test set accuracy: %.2f %%' % (acc * 100))"
   ]
  },
  {
   "cell_type": "code",
   "execution_count": 35,
   "metadata": {},
   "outputs": [],
   "source": [
    "kolom1 = ['sg','al','su','ba','hemo','dm','cad','appet','pe','ane','class']"
   ]
  },
  {
   "cell_type": "code",
   "execution_count": 36,
   "metadata": {},
   "outputs": [],
   "source": [
    "data=df[kolom1]"
   ]
  },
  {
   "cell_type": "code",
   "execution_count": 38,
   "metadata": {},
   "outputs": [],
   "source": [
    "data.to_excel(r'C:\\Users\\ACER\\Desktop\\ASFS.xlsx',index=False)"
   ]
  },
  {
   "cell_type": "code",
   "execution_count": null,
   "metadata": {},
   "outputs": [],
   "source": []
  }
 ],
 "metadata": {
  "kernelspec": {
   "display_name": "Python 3",
   "language": "python",
   "name": "python3"
  },
  "language_info": {
   "codemirror_mode": {
    "name": "ipython",
    "version": 3
   },
   "file_extension": ".py",
   "mimetype": "text/x-python",
   "name": "python",
   "nbconvert_exporter": "python",
   "pygments_lexer": "ipython3",
   "version": "3.7.4"
  }
 },
 "nbformat": 4,
 "nbformat_minor": 2
}
